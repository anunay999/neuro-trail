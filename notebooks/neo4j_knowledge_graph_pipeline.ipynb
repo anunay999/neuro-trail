{
 "cells": [
  {
   "cell_type": "code",
   "execution_count": 13,
   "id": "78e0de9e-5b6a-466e-8df6-0e1d15a5cd8a",
   "metadata": {},
   "outputs": [],
   "source": [
    "from __future__ import annotations\n",
    "\n",
    "import asyncio\n",
    "import logging\n",
    "\n",
    "from neo4j_graphrag.experimental.components.entity_relation_extractor import (\n",
    "    LLMEntityRelationExtractor,\n",
    "    OnError,\n",
    ")\n",
    "from neo4j_graphrag.experimental.components.kg_writer import Neo4jWriter\n",
    "from neo4j_graphrag.experimental.components.pdf_loader import PdfLoader\n",
    "from neo4j_graphrag.experimental.components.schema import (\n",
    "    SchemaBuilder,\n",
    "    SchemaEntity,\n",
    "    SchemaRelation,\n",
    ")\n",
    "from neo4j_graphrag.experimental.components.text_splitters.fixed_size_splitter import (\n",
    "    FixedSizeSplitter,\n",
    ")\n",
    "from neo4j_graphrag.experimental.pipeline.pipeline import PipelineResult\n",
    "from neo4j_graphrag.llm import LLMInterface, OpenAILLM\n",
    "\n",
    "import neo4j\n",
    "from neo4j_graphrag.llm import LLMResponse, OllamaLLM\n",
    "\n",
    "\n",
    "logging.basicConfig(level=logging.INFO)"
   ]
  },
  {
   "cell_type": "code",
   "execution_count": 31,
   "id": "e12571ac-f3e3-4b8f-9f4d-a7eddaf823bd",
   "metadata": {},
   "outputs": [],
   "source": [
    "LLM_MODEL = \"deepseek-r1:7b\"\n",
    "MAX_TOKENS = 2000\n",
    "FILE_PATH = \"/Users/anunay.aatipamula/Downloads/LLM Engineer's Handbook-9781836200079.pdf\""
   ]
  },
  {
   "cell_type": "code",
   "execution_count": 32,
   "id": "5a480434-f3e5-44fb-b2f3-db6e689f0b7c",
   "metadata": {},
   "outputs": [],
   "source": [
    "async def define_and_run_pipeline(\n",
    "    neo4j_driver: neo4j.Driver, llm: LLMInterface\n",
    ") -> PipelineResult:\n",
    "    from neo4j_graphrag.experimental.pipeline import Pipeline\n",
    "\n",
    "    entities = [\n",
    "    SchemaEntity(label=\"DOCUMENT\", description=\"A written or digital work, such as a book, article, report, or web page.\"),\n",
    "    SchemaEntity(label=\"AUTHOR\", description=\"An individual or group responsible for creating the content of a document.\"),\n",
    "    SchemaEntity(label=\"PUBLISHER\", description=\"An entity that publishes or distributes the document.\"),\n",
    "    SchemaEntity(label=\"SECTION\", description=\"A distinct subdivision within a document, such as a chapter or heading.\"),\n",
    "    SchemaEntity(label=\"REFERENCE\", description=\"A citation or link to another document or source.\"),\n",
    "    SchemaEntity(label=\"URL\", description=\"The web address where the document is located.\"),\n",
    "    ]\n",
    "    \n",
    "    relations = [\n",
    "        SchemaRelation(label=\"AUTHORED_BY\", description=\"Connects a document to its author(s).\"),\n",
    "        SchemaRelation(label=\"PUBLISHED_BY\", description=\"Links a document to its publisher.\"),\n",
    "        SchemaRelation(label=\"CONTAINS_SECTION\", description=\"Indicates that a document includes specific sections.\"),\n",
    "        SchemaRelation(label=\"REFERENCES\", description=\"Denotes that a document cites another document or source.\"),\n",
    "        SchemaRelation(label=\"LOCATED_AT\", description=\"Specifies the URL where the document can be accessed.\"),\n",
    "    ]\n",
    "    \n",
    "    potential_schema = [\n",
    "        (\"DOCUMENT\", \"AUTHORED_BY\", \"AUTHOR\"),\n",
    "        (\"DOCUMENT\", \"PUBLISHED_BY\", \"PUBLISHER\"),\n",
    "        (\"DOCUMENT\", \"CONTAINS_SECTION\", \"SECTION\"),\n",
    "        (\"DOCUMENT\", \"REFERENCES\", \"REFERENCE\"),\n",
    "        (\"DOCUMENT\", \"LOCATED_AT\", \"URL\"),\n",
    "    ]\n",
    "\n",
    "    # Set up the pipeline\n",
    "    pipe = Pipeline()\n",
    "    pipe.add_component(PdfLoader(), \"pdf_loader\")\n",
    "    pipe.add_component(\n",
    "        FixedSizeSplitter(chunk_size=4000, chunk_overlap=200, approximate=False),\n",
    "        \"splitter\",\n",
    "    )\n",
    "    pipe.add_component(SchemaBuilder(), \"schema\")\n",
    "    pipe.add_component(\n",
    "        LLMEntityRelationExtractor(\n",
    "            llm=llm,\n",
    "            on_error=OnError.RAISE,\n",
    "        ),\n",
    "        \"extractor\",\n",
    "    )\n",
    "    pipe.add_component(Neo4jWriter(neo4j_driver), \"writer\")\n",
    "    pipe.connect(\"pdf_loader\", \"splitter\", input_config={\"text\": \"pdf_loader.text\"})\n",
    "    pipe.connect(\"splitter\", \"extractor\", input_config={\"chunks\": \"splitter\"})\n",
    "    pipe.connect(\n",
    "        \"schema\",\n",
    "        \"extractor\",\n",
    "        input_config={\n",
    "            \"schema\": \"schema\",\n",
    "            \"document_info\": \"pdf_loader.document_info\",\n",
    "        },\n",
    "    )\n",
    "    pipe.connect(\n",
    "        \"extractor\",\n",
    "        \"writer\",\n",
    "        input_config={\"graph\": \"extractor\"},\n",
    "    )\n",
    "\n",
    "    pipe_inputs = {\n",
    "        \"pdf_loader\": {\n",
    "            \"filepath\": FILE_PATH\n",
    "        },\n",
    "        \"schema\": {\n",
    "            \"entities\": entities,\n",
    "            \"relations\": relations,\n",
    "            \"potential_schema\": potential_schema,\n",
    "        },\n",
    "    }\n",
    "    return await pipe.run(pipe_inputs)\n"
   ]
  },
  {
   "cell_type": "code",
   "execution_count": 33,
   "id": "ea2ea9e0-3007-4a87-bffb-97705a71330a",
   "metadata": {},
   "outputs": [],
   "source": [
    "async def main() -> PipelineResult:\n",
    "    llm = OllamaLLM(\n",
    "        model_name=LLM_MODEL,\n",
    "        model_params={\n",
    "            \"max_tokens\": MAX_TOKENS,\n",
    "            \"response_format\": {\"type\": \"json_object\"},\n",
    "        },\n",
    "    )\n",
    "    driver = neo4j.GraphDatabase.driver(\n",
    "        \"bolt://localhost:7687\", auth=(\"neo4j\", \"learning\")\n",
    "    )\n",
    "    res = await define_and_run_pipeline(driver, llm)\n",
    "    driver.close()\n",
    "    await llm.async_client.close()\n",
    "    return res"
   ]
  },
  {
   "cell_type": "code",
   "execution_count": 34,
   "id": "5003f764-19de-4338-9b67-35e04ce35c11",
   "metadata": {},
   "outputs": [
    {
     "name": "stderr",
     "output_type": "stream",
     "text": [
      "INFO:httpx:HTTP Request: POST http://127.0.0.1:11434/api/chat \"HTTP/1.1 200 OK\"\n"
     ]
    },
    {
     "ename": "LLMGenerationError",
     "evalue": "LLM response has improper format",
     "output_type": "error",
     "traceback": [
      "\u001b[0;31m---------------------------------------------------------------------------\u001b[0m",
      "\u001b[0;31mValidationError\u001b[0m                           Traceback (most recent call last)",
      "File \u001b[0;32m/opt/homebrew/Caskroom/miniconda/base/lib/python3.10/site-packages/neo4j_graphrag/experimental/components/entity_relation_extractor.py:234\u001b[0m, in \u001b[0;36mLLMEntityRelationExtractor.extract_for_chunk\u001b[0;34m(self, schema, examples, chunk)\u001b[0m\n\u001b[1;32m    233\u001b[0m \u001b[38;5;28;01mtry\u001b[39;00m:\n\u001b[0;32m--> 234\u001b[0m     chunk_graph \u001b[38;5;241m=\u001b[39m \u001b[43mNeo4jGraph\u001b[49m\u001b[38;5;241;43m.\u001b[39;49m\u001b[43mmodel_validate\u001b[49m\u001b[43m(\u001b[49m\u001b[43mresult\u001b[49m\u001b[43m)\u001b[49m\n\u001b[1;32m    235\u001b[0m \u001b[38;5;28;01mexcept\u001b[39;00m ValidationError \u001b[38;5;28;01mas\u001b[39;00m e:\n",
      "File \u001b[0;32m/opt/homebrew/Caskroom/miniconda/base/lib/python3.10/site-packages/pydantic/main.py:627\u001b[0m, in \u001b[0;36mBaseModel.model_validate\u001b[0;34m(cls, obj, strict, from_attributes, context)\u001b[0m\n\u001b[1;32m    626\u001b[0m __tracebackhide__ \u001b[38;5;241m=\u001b[39m \u001b[38;5;28;01mTrue\u001b[39;00m\n\u001b[0;32m--> 627\u001b[0m \u001b[38;5;28;01mreturn\u001b[39;00m \u001b[38;5;28;43mcls\u001b[39;49m\u001b[38;5;241;43m.\u001b[39;49m\u001b[43m__pydantic_validator__\u001b[49m\u001b[38;5;241;43m.\u001b[39;49m\u001b[43mvalidate_python\u001b[49m\u001b[43m(\u001b[49m\n\u001b[1;32m    628\u001b[0m \u001b[43m    \u001b[49m\u001b[43mobj\u001b[49m\u001b[43m,\u001b[49m\u001b[43m \u001b[49m\u001b[43mstrict\u001b[49m\u001b[38;5;241;43m=\u001b[39;49m\u001b[43mstrict\u001b[49m\u001b[43m,\u001b[49m\u001b[43m \u001b[49m\u001b[43mfrom_attributes\u001b[49m\u001b[38;5;241;43m=\u001b[39;49m\u001b[43mfrom_attributes\u001b[49m\u001b[43m,\u001b[49m\u001b[43m \u001b[49m\u001b[43mcontext\u001b[49m\u001b[38;5;241;43m=\u001b[39;49m\u001b[43mcontext\u001b[49m\n\u001b[1;32m    629\u001b[0m \u001b[43m\u001b[49m\u001b[43m)\u001b[49m\n",
      "\u001b[0;31mValidationError\u001b[0m: 1 validation error for Neo4jGraph\n  Input should be a valid dictionary or instance of Neo4jGraph [type=model_type, input_value=['', {'nodes': [{'@id': '...ship': 'AUTHORED_BY'}]}], input_type=list]\n    For further information visit https://errors.pydantic.dev/2.10/v/model_type",
      "\nThe above exception was the direct cause of the following exception:\n",
      "\u001b[0;31mLLMGenerationError\u001b[0m                        Traceback (most recent call last)",
      "Cell \u001b[0;32mIn[34], line 1\u001b[0m\n\u001b[0;32m----> 1\u001b[0m res \u001b[38;5;241m=\u001b[39m \u001b[38;5;28;01mawait\u001b[39;00m main()\n",
      "Cell \u001b[0;32mIn[33], line 12\u001b[0m, in \u001b[0;36mmain\u001b[0;34m()\u001b[0m\n\u001b[1;32m      2\u001b[0m llm \u001b[38;5;241m=\u001b[39m OllamaLLM(\n\u001b[1;32m      3\u001b[0m     model_name\u001b[38;5;241m=\u001b[39mLLM_MODEL,\n\u001b[1;32m      4\u001b[0m     model_params\u001b[38;5;241m=\u001b[39m{\n\u001b[0;32m   (...)\u001b[0m\n\u001b[1;32m      7\u001b[0m     },\n\u001b[1;32m      8\u001b[0m )\n\u001b[1;32m      9\u001b[0m driver \u001b[38;5;241m=\u001b[39m neo4j\u001b[38;5;241m.\u001b[39mGraphDatabase\u001b[38;5;241m.\u001b[39mdriver(\n\u001b[1;32m     10\u001b[0m     \u001b[38;5;124m\"\u001b[39m\u001b[38;5;124mbolt://localhost:7687\u001b[39m\u001b[38;5;124m\"\u001b[39m, auth\u001b[38;5;241m=\u001b[39m(\u001b[38;5;124m\"\u001b[39m\u001b[38;5;124mneo4j\u001b[39m\u001b[38;5;124m\"\u001b[39m, \u001b[38;5;124m\"\u001b[39m\u001b[38;5;124mlearning\u001b[39m\u001b[38;5;124m\"\u001b[39m)\n\u001b[1;32m     11\u001b[0m )\n\u001b[0;32m---> 12\u001b[0m res \u001b[38;5;241m=\u001b[39m \u001b[38;5;28;01mawait\u001b[39;00m define_and_run_pipeline(driver, llm)\n\u001b[1;32m     13\u001b[0m driver\u001b[38;5;241m.\u001b[39mclose()\n\u001b[1;32m     14\u001b[0m \u001b[38;5;28;01mawait\u001b[39;00m llm\u001b[38;5;241m.\u001b[39masync_client\u001b[38;5;241m.\u001b[39mclose()\n",
      "Cell \u001b[0;32mIn[32], line 73\u001b[0m, in \u001b[0;36mdefine_and_run_pipeline\u001b[0;34m(neo4j_driver, llm)\u001b[0m\n\u001b[1;32m     57\u001b[0m pipe\u001b[38;5;241m.\u001b[39mconnect(\n\u001b[1;32m     58\u001b[0m     \u001b[38;5;124m\"\u001b[39m\u001b[38;5;124mextractor\u001b[39m\u001b[38;5;124m\"\u001b[39m,\n\u001b[1;32m     59\u001b[0m     \u001b[38;5;124m\"\u001b[39m\u001b[38;5;124mwriter\u001b[39m\u001b[38;5;124m\"\u001b[39m,\n\u001b[1;32m     60\u001b[0m     input_config\u001b[38;5;241m=\u001b[39m{\u001b[38;5;124m\"\u001b[39m\u001b[38;5;124mgraph\u001b[39m\u001b[38;5;124m\"\u001b[39m: \u001b[38;5;124m\"\u001b[39m\u001b[38;5;124mextractor\u001b[39m\u001b[38;5;124m\"\u001b[39m},\n\u001b[1;32m     61\u001b[0m )\n\u001b[1;32m     63\u001b[0m pipe_inputs \u001b[38;5;241m=\u001b[39m {\n\u001b[1;32m     64\u001b[0m     \u001b[38;5;124m\"\u001b[39m\u001b[38;5;124mpdf_loader\u001b[39m\u001b[38;5;124m\"\u001b[39m: {\n\u001b[1;32m     65\u001b[0m         \u001b[38;5;124m\"\u001b[39m\u001b[38;5;124mfilepath\u001b[39m\u001b[38;5;124m\"\u001b[39m: FILE_PATH\n\u001b[0;32m   (...)\u001b[0m\n\u001b[1;32m     71\u001b[0m     },\n\u001b[1;32m     72\u001b[0m }\n\u001b[0;32m---> 73\u001b[0m \u001b[38;5;28;01mreturn\u001b[39;00m \u001b[38;5;28;01mawait\u001b[39;00m pipe\u001b[38;5;241m.\u001b[39mrun(pipe_inputs)\n",
      "File \u001b[0;32m/opt/homebrew/Caskroom/miniconda/base/lib/python3.10/site-packages/neo4j_graphrag/experimental/pipeline/pipeline.py:414\u001b[0m, in \u001b[0;36mPipeline.run\u001b[0;34m(self, data)\u001b[0m\n\u001b[1;32m    412\u001b[0m orchestrator \u001b[38;5;241m=\u001b[39m Orchestrator(\u001b[38;5;28mself\u001b[39m)\n\u001b[1;32m    413\u001b[0m logger\u001b[38;5;241m.\u001b[39mdebug(\u001b[38;5;124mf\u001b[39m\u001b[38;5;124m\"\u001b[39m\u001b[38;5;124mPIPELINE ORCHESTRATOR: \u001b[39m\u001b[38;5;132;01m{\u001b[39;00morchestrator\u001b[38;5;241m.\u001b[39mrun_id\u001b[38;5;132;01m}\u001b[39;00m\u001b[38;5;124m\"\u001b[39m)\n\u001b[0;32m--> 414\u001b[0m \u001b[38;5;28;01mawait\u001b[39;00m orchestrator\u001b[38;5;241m.\u001b[39mrun(data)\n\u001b[1;32m    415\u001b[0m end_time \u001b[38;5;241m=\u001b[39m default_timer()\n\u001b[1;32m    416\u001b[0m logger\u001b[38;5;241m.\u001b[39mdebug(\n\u001b[1;32m    417\u001b[0m     \u001b[38;5;124mf\u001b[39m\u001b[38;5;124m\"\u001b[39m\u001b[38;5;124mPIPELINE FINISHED \u001b[39m\u001b[38;5;132;01m{\u001b[39;00morchestrator\u001b[38;5;241m.\u001b[39mrun_id\u001b[38;5;132;01m}\u001b[39;00m\u001b[38;5;124m in \u001b[39m\u001b[38;5;132;01m{\u001b[39;00mend_time\u001b[38;5;250m \u001b[39m\u001b[38;5;241m-\u001b[39m\u001b[38;5;250m \u001b[39mstart_time\u001b[38;5;132;01m}\u001b[39;00m\u001b[38;5;124ms\u001b[39m\u001b[38;5;124m\"\u001b[39m\n\u001b[1;32m    418\u001b[0m )\n",
      "File \u001b[0;32m/opt/homebrew/Caskroom/miniconda/base/lib/python3.10/site-packages/neo4j_graphrag/experimental/pipeline/orchestrator.py:258\u001b[0m, in \u001b[0;36mOrchestrator.run\u001b[0;34m(self, data)\u001b[0m\n\u001b[1;32m    256\u001b[0m \u001b[38;5;28;01mawait\u001b[39;00m \u001b[38;5;28mself\u001b[39m\u001b[38;5;241m.\u001b[39mevent_notifier\u001b[38;5;241m.\u001b[39mnotify_pipeline_started(\u001b[38;5;28mself\u001b[39m\u001b[38;5;241m.\u001b[39mrun_id, data)\n\u001b[1;32m    257\u001b[0m tasks \u001b[38;5;241m=\u001b[39m [\u001b[38;5;28mself\u001b[39m\u001b[38;5;241m.\u001b[39mrun_task(root, data) \u001b[38;5;28;01mfor\u001b[39;00m root \u001b[38;5;129;01min\u001b[39;00m \u001b[38;5;28mself\u001b[39m\u001b[38;5;241m.\u001b[39mpipeline\u001b[38;5;241m.\u001b[39mroots()]\n\u001b[0;32m--> 258\u001b[0m \u001b[38;5;28;01mawait\u001b[39;00m asyncio\u001b[38;5;241m.\u001b[39mgather(\u001b[38;5;241m*\u001b[39mtasks)\n\u001b[1;32m    259\u001b[0m \u001b[38;5;28;01mawait\u001b[39;00m \u001b[38;5;28mself\u001b[39m\u001b[38;5;241m.\u001b[39mevent_notifier\u001b[38;5;241m.\u001b[39mnotify_pipeline_finished(\n\u001b[1;32m    260\u001b[0m     \u001b[38;5;28mself\u001b[39m\u001b[38;5;241m.\u001b[39mrun_id, \u001b[38;5;28;01mawait\u001b[39;00m \u001b[38;5;28mself\u001b[39m\u001b[38;5;241m.\u001b[39mpipeline\u001b[38;5;241m.\u001b[39mget_final_results(\u001b[38;5;28mself\u001b[39m\u001b[38;5;241m.\u001b[39mrun_id)\n\u001b[1;32m    261\u001b[0m )\n",
      "File \u001b[0;32m/opt/homebrew/Caskroom/miniconda/base/lib/python3.10/site-packages/neo4j_graphrag/experimental/pipeline/orchestrator.py:81\u001b[0m, in \u001b[0;36mOrchestrator.run_task\u001b[0;34m(self, task, data)\u001b[0m\n\u001b[1;32m     79\u001b[0m \u001b[38;5;28;01mawait\u001b[39;00m \u001b[38;5;28mself\u001b[39m\u001b[38;5;241m.\u001b[39mevent_notifier\u001b[38;5;241m.\u001b[39mnotify_task_finished(\u001b[38;5;28mself\u001b[39m\u001b[38;5;241m.\u001b[39mrun_id, task\u001b[38;5;241m.\u001b[39mname, res)\n\u001b[1;32m     80\u001b[0m \u001b[38;5;28;01mif\u001b[39;00m res:\n\u001b[0;32m---> 81\u001b[0m     \u001b[38;5;28;01mawait\u001b[39;00m \u001b[38;5;28mself\u001b[39m\u001b[38;5;241m.\u001b[39mon_task_complete(data\u001b[38;5;241m=\u001b[39mdata, task\u001b[38;5;241m=\u001b[39mtask, result\u001b[38;5;241m=\u001b[39mres)\n",
      "File \u001b[0;32m/opt/homebrew/Caskroom/miniconda/base/lib/python3.10/site-packages/neo4j_graphrag/experimental/pipeline/orchestrator.py:122\u001b[0m, in \u001b[0;36mOrchestrator.on_task_complete\u001b[0;34m(self, data, task, result)\u001b[0m\n\u001b[1;32m    117\u001b[0m \u001b[38;5;28;01mawait\u001b[39;00m \u001b[38;5;28mself\u001b[39m\u001b[38;5;241m.\u001b[39madd_result_for_component(\n\u001b[1;32m    118\u001b[0m     task\u001b[38;5;241m.\u001b[39mname, res_to_save, is_final\u001b[38;5;241m=\u001b[39mtask\u001b[38;5;241m.\u001b[39mis_leaf()\n\u001b[1;32m    119\u001b[0m )\n\u001b[1;32m    120\u001b[0m \u001b[38;5;66;03m# then get the next tasks to be executed\u001b[39;00m\n\u001b[1;32m    121\u001b[0m \u001b[38;5;66;03m# and run them in //\u001b[39;00m\n\u001b[0;32m--> 122\u001b[0m \u001b[38;5;28;01mawait\u001b[39;00m asyncio\u001b[38;5;241m.\u001b[39mgather(\u001b[38;5;241m*\u001b[39m[\u001b[38;5;28mself\u001b[39m\u001b[38;5;241m.\u001b[39mrun_task(n, data) \u001b[38;5;28;01masync\u001b[39;00m \u001b[38;5;28;01mfor\u001b[39;00m n \u001b[38;5;129;01min\u001b[39;00m \u001b[38;5;28mself\u001b[39m\u001b[38;5;241m.\u001b[39mnext(task)])\n",
      "File \u001b[0;32m/opt/homebrew/Caskroom/miniconda/base/lib/python3.10/site-packages/neo4j_graphrag/experimental/pipeline/orchestrator.py:81\u001b[0m, in \u001b[0;36mOrchestrator.run_task\u001b[0;34m(self, task, data)\u001b[0m\n\u001b[1;32m     79\u001b[0m \u001b[38;5;28;01mawait\u001b[39;00m \u001b[38;5;28mself\u001b[39m\u001b[38;5;241m.\u001b[39mevent_notifier\u001b[38;5;241m.\u001b[39mnotify_task_finished(\u001b[38;5;28mself\u001b[39m\u001b[38;5;241m.\u001b[39mrun_id, task\u001b[38;5;241m.\u001b[39mname, res)\n\u001b[1;32m     80\u001b[0m \u001b[38;5;28;01mif\u001b[39;00m res:\n\u001b[0;32m---> 81\u001b[0m     \u001b[38;5;28;01mawait\u001b[39;00m \u001b[38;5;28mself\u001b[39m\u001b[38;5;241m.\u001b[39mon_task_complete(data\u001b[38;5;241m=\u001b[39mdata, task\u001b[38;5;241m=\u001b[39mtask, result\u001b[38;5;241m=\u001b[39mres)\n",
      "File \u001b[0;32m/opt/homebrew/Caskroom/miniconda/base/lib/python3.10/site-packages/neo4j_graphrag/experimental/pipeline/orchestrator.py:122\u001b[0m, in \u001b[0;36mOrchestrator.on_task_complete\u001b[0;34m(self, data, task, result)\u001b[0m\n\u001b[1;32m    117\u001b[0m \u001b[38;5;28;01mawait\u001b[39;00m \u001b[38;5;28mself\u001b[39m\u001b[38;5;241m.\u001b[39madd_result_for_component(\n\u001b[1;32m    118\u001b[0m     task\u001b[38;5;241m.\u001b[39mname, res_to_save, is_final\u001b[38;5;241m=\u001b[39mtask\u001b[38;5;241m.\u001b[39mis_leaf()\n\u001b[1;32m    119\u001b[0m )\n\u001b[1;32m    120\u001b[0m \u001b[38;5;66;03m# then get the next tasks to be executed\u001b[39;00m\n\u001b[1;32m    121\u001b[0m \u001b[38;5;66;03m# and run them in //\u001b[39;00m\n\u001b[0;32m--> 122\u001b[0m \u001b[38;5;28;01mawait\u001b[39;00m asyncio\u001b[38;5;241m.\u001b[39mgather(\u001b[38;5;241m*\u001b[39m[\u001b[38;5;28mself\u001b[39m\u001b[38;5;241m.\u001b[39mrun_task(n, data) \u001b[38;5;28;01masync\u001b[39;00m \u001b[38;5;28;01mfor\u001b[39;00m n \u001b[38;5;129;01min\u001b[39;00m \u001b[38;5;28mself\u001b[39m\u001b[38;5;241m.\u001b[39mnext(task)])\n",
      "File \u001b[0;32m/opt/homebrew/Caskroom/miniconda/base/lib/python3.10/site-packages/neo4j_graphrag/experimental/pipeline/orchestrator.py:77\u001b[0m, in \u001b[0;36mOrchestrator.run_task\u001b[0;34m(self, task, data)\u001b[0m\n\u001b[1;32m     75\u001b[0m     \u001b[38;5;28;01mreturn\u001b[39;00m \u001b[38;5;28;01mNone\u001b[39;00m\n\u001b[1;32m     76\u001b[0m \u001b[38;5;28;01mawait\u001b[39;00m \u001b[38;5;28mself\u001b[39m\u001b[38;5;241m.\u001b[39mevent_notifier\u001b[38;5;241m.\u001b[39mnotify_task_started(\u001b[38;5;28mself\u001b[39m\u001b[38;5;241m.\u001b[39mrun_id, task\u001b[38;5;241m.\u001b[39mname, inputs)\n\u001b[0;32m---> 77\u001b[0m res \u001b[38;5;241m=\u001b[39m \u001b[38;5;28;01mawait\u001b[39;00m task\u001b[38;5;241m.\u001b[39mrun(inputs)\n\u001b[1;32m     78\u001b[0m \u001b[38;5;28;01mawait\u001b[39;00m \u001b[38;5;28mself\u001b[39m\u001b[38;5;241m.\u001b[39mset_task_status(task\u001b[38;5;241m.\u001b[39mname, RunStatus\u001b[38;5;241m.\u001b[39mDONE)\n\u001b[1;32m     79\u001b[0m \u001b[38;5;28;01mawait\u001b[39;00m \u001b[38;5;28mself\u001b[39m\u001b[38;5;241m.\u001b[39mevent_notifier\u001b[38;5;241m.\u001b[39mnotify_task_finished(\u001b[38;5;28mself\u001b[39m\u001b[38;5;241m.\u001b[39mrun_id, task\u001b[38;5;241m.\u001b[39mname, res)\n",
      "File \u001b[0;32m/opt/homebrew/Caskroom/miniconda/base/lib/python3.10/site-packages/neo4j_graphrag/experimental/pipeline/pipeline.py:88\u001b[0m, in \u001b[0;36mTaskPipelineNode.run\u001b[0;34m(self, inputs)\u001b[0m\n\u001b[1;32m     86\u001b[0m logger\u001b[38;5;241m.\u001b[39mdebug(\u001b[38;5;124mf\u001b[39m\u001b[38;5;124m\"\u001b[39m\u001b[38;5;124mTASK START \u001b[39m\u001b[38;5;132;01m{\u001b[39;00m\u001b[38;5;28mself\u001b[39m\u001b[38;5;241m.\u001b[39mname\u001b[38;5;132;01m=}\u001b[39;00m\u001b[38;5;124m input=\u001b[39m\u001b[38;5;132;01m{\u001b[39;00mprettify(inputs)\u001b[38;5;132;01m}\u001b[39;00m\u001b[38;5;124m\"\u001b[39m)\n\u001b[1;32m     87\u001b[0m start_time \u001b[38;5;241m=\u001b[39m default_timer()\n\u001b[0;32m---> 88\u001b[0m res \u001b[38;5;241m=\u001b[39m \u001b[38;5;28;01mawait\u001b[39;00m \u001b[38;5;28mself\u001b[39m\u001b[38;5;241m.\u001b[39mexecute(\u001b[38;5;241m*\u001b[39m\u001b[38;5;241m*\u001b[39minputs)\n\u001b[1;32m     89\u001b[0m end_time \u001b[38;5;241m=\u001b[39m default_timer()\n\u001b[1;32m     90\u001b[0m logger\u001b[38;5;241m.\u001b[39mdebug(\n\u001b[1;32m     91\u001b[0m     \u001b[38;5;124mf\u001b[39m\u001b[38;5;124m\"\u001b[39m\u001b[38;5;124mTASK FINISHED \u001b[39m\u001b[38;5;132;01m{\u001b[39;00m\u001b[38;5;28mself\u001b[39m\u001b[38;5;241m.\u001b[39mname\u001b[38;5;132;01m}\u001b[39;00m\u001b[38;5;124m in \u001b[39m\u001b[38;5;132;01m{\u001b[39;00mend_time\u001b[38;5;250m \u001b[39m\u001b[38;5;241m-\u001b[39m\u001b[38;5;250m \u001b[39mstart_time\u001b[38;5;132;01m}\u001b[39;00m\u001b[38;5;124m res=\u001b[39m\u001b[38;5;132;01m{\u001b[39;00mprettify(res)\u001b[38;5;132;01m}\u001b[39;00m\u001b[38;5;124m\"\u001b[39m\n\u001b[1;32m     92\u001b[0m )\n",
      "File \u001b[0;32m/opt/homebrew/Caskroom/miniconda/base/lib/python3.10/site-packages/neo4j_graphrag/experimental/pipeline/pipeline.py:78\u001b[0m, in \u001b[0;36mTaskPipelineNode.execute\u001b[0;34m(self, **kwargs)\u001b[0m\n\u001b[1;32m     70\u001b[0m \u001b[38;5;28;01masync\u001b[39;00m \u001b[38;5;28;01mdef\u001b[39;00m\u001b[38;5;250m \u001b[39m\u001b[38;5;21mexecute\u001b[39m(\u001b[38;5;28mself\u001b[39m, \u001b[38;5;241m*\u001b[39m\u001b[38;5;241m*\u001b[39mkwargs: Any) \u001b[38;5;241m-\u001b[39m\u001b[38;5;241m>\u001b[39m RunResult \u001b[38;5;241m|\u001b[39m \u001b[38;5;28;01mNone\u001b[39;00m:\n\u001b[1;32m     71\u001b[0m \u001b[38;5;250m    \u001b[39m\u001b[38;5;124;03m\"\"\"Execute the task\u001b[39;00m\n\u001b[1;32m     72\u001b[0m \n\u001b[1;32m     73\u001b[0m \u001b[38;5;124;03m    Returns:\u001b[39;00m\n\u001b[0;32m   (...)\u001b[0m\n\u001b[1;32m     76\u001b[0m \u001b[38;5;124;03m        was unsuccessful.\u001b[39;00m\n\u001b[1;32m     77\u001b[0m \u001b[38;5;124;03m    \"\"\"\u001b[39;00m\n\u001b[0;32m---> 78\u001b[0m     component_result \u001b[38;5;241m=\u001b[39m \u001b[38;5;28;01mawait\u001b[39;00m \u001b[38;5;28mself\u001b[39m\u001b[38;5;241m.\u001b[39mcomponent\u001b[38;5;241m.\u001b[39mrun(\u001b[38;5;241m*\u001b[39m\u001b[38;5;241m*\u001b[39mkwargs)\n\u001b[1;32m     79\u001b[0m     run_result \u001b[38;5;241m=\u001b[39m RunResult(\n\u001b[1;32m     80\u001b[0m         result\u001b[38;5;241m=\u001b[39mcomponent_result,\n\u001b[1;32m     81\u001b[0m     )\n\u001b[1;32m     82\u001b[0m     \u001b[38;5;28;01mreturn\u001b[39;00m run_result\n",
      "File \u001b[0;32m/opt/homebrew/Caskroom/miniconda/base/lib/python3.10/site-packages/pydantic/_internal/_validate_call.py:33\u001b[0m, in \u001b[0;36mupdate_wrapper_attributes.<locals>.wrapper_function\u001b[0;34m(*args, **kwargs)\u001b[0m\n\u001b[1;32m     31\u001b[0m \u001b[38;5;129m@functools\u001b[39m\u001b[38;5;241m.\u001b[39mwraps(wrapped)\n\u001b[1;32m     32\u001b[0m \u001b[38;5;28;01masync\u001b[39;00m \u001b[38;5;28;01mdef\u001b[39;00m\u001b[38;5;250m \u001b[39m\u001b[38;5;21mwrapper_function\u001b[39m(\u001b[38;5;241m*\u001b[39margs, \u001b[38;5;241m*\u001b[39m\u001b[38;5;241m*\u001b[39mkwargs):  \u001b[38;5;66;03m# type: ignore\u001b[39;00m\n\u001b[0;32m---> 33\u001b[0m     \u001b[38;5;28;01mreturn\u001b[39;00m \u001b[38;5;28;01mawait\u001b[39;00m wrapper(\u001b[38;5;241m*\u001b[39margs, \u001b[38;5;241m*\u001b[39m\u001b[38;5;241m*\u001b[39mkwargs)\n",
      "File \u001b[0;32m/opt/homebrew/Caskroom/miniconda/base/lib/python3.10/site-packages/neo4j_graphrag/experimental/components/entity_relation_extractor.py:343\u001b[0m, in \u001b[0;36mLLMEntityRelationExtractor.run\u001b[0;34m(self, chunks, document_info, lexical_graph_config, schema, examples, **kwargs)\u001b[0m\n\u001b[1;32m    332\u001b[0m sem \u001b[38;5;241m=\u001b[39m asyncio\u001b[38;5;241m.\u001b[39mSemaphore(\u001b[38;5;28mself\u001b[39m\u001b[38;5;241m.\u001b[39mmax_concurrency)\n\u001b[1;32m    333\u001b[0m tasks \u001b[38;5;241m=\u001b[39m [\n\u001b[1;32m    334\u001b[0m     \u001b[38;5;28mself\u001b[39m\u001b[38;5;241m.\u001b[39mrun_for_chunk(\n\u001b[1;32m    335\u001b[0m         sem,\n\u001b[0;32m   (...)\u001b[0m\n\u001b[1;32m    341\u001b[0m     \u001b[38;5;28;01mfor\u001b[39;00m chunk \u001b[38;5;129;01min\u001b[39;00m chunks\u001b[38;5;241m.\u001b[39mchunks\n\u001b[1;32m    342\u001b[0m ]\n\u001b[0;32m--> 343\u001b[0m chunk_graphs: \u001b[38;5;28mlist\u001b[39m[Neo4jGraph] \u001b[38;5;241m=\u001b[39m \u001b[38;5;28mlist\u001b[39m(\u001b[38;5;28;01mawait\u001b[39;00m asyncio\u001b[38;5;241m.\u001b[39mgather(\u001b[38;5;241m*\u001b[39mtasks))\n\u001b[1;32m    344\u001b[0m graph \u001b[38;5;241m=\u001b[39m \u001b[38;5;28mself\u001b[39m\u001b[38;5;241m.\u001b[39mcombine_chunk_graphs(lexical_graph, chunk_graphs)\n\u001b[1;32m    345\u001b[0m logger\u001b[38;5;241m.\u001b[39mdebug(\u001b[38;5;124mf\u001b[39m\u001b[38;5;124m\"\u001b[39m\u001b[38;5;124mExtracted graph: \u001b[39m\u001b[38;5;132;01m{\u001b[39;00mprettify(graph)\u001b[38;5;132;01m}\u001b[39;00m\u001b[38;5;124m\"\u001b[39m)\n",
      "File \u001b[0;32m/opt/homebrew/Caskroom/miniconda/base/lib/python3.10/site-packages/neo4j_graphrag/experimental/components/entity_relation_extractor.py:286\u001b[0m, in \u001b[0;36mLLMEntityRelationExtractor.run_for_chunk\u001b[0;34m(self, sem, chunk, schema, examples, lexical_graph_builder)\u001b[0m\n\u001b[1;32m    284\u001b[0m \u001b[38;5;250m\u001b[39m\u001b[38;5;124;03m\"\"\"Run extraction, validation and post processing for a single chunk\"\"\"\u001b[39;00m\n\u001b[1;32m    285\u001b[0m \u001b[38;5;28;01masync\u001b[39;00m \u001b[38;5;28;01mwith\u001b[39;00m sem:\n\u001b[0;32m--> 286\u001b[0m     chunk_graph \u001b[38;5;241m=\u001b[39m \u001b[38;5;28;01mawait\u001b[39;00m \u001b[38;5;28mself\u001b[39m\u001b[38;5;241m.\u001b[39mextract_for_chunk(schema, examples, chunk)\n\u001b[1;32m    287\u001b[0m     final_chunk_graph \u001b[38;5;241m=\u001b[39m \u001b[38;5;28mself\u001b[39m\u001b[38;5;241m.\u001b[39mvalidate_chunk(chunk_graph, schema)\n\u001b[1;32m    288\u001b[0m     \u001b[38;5;28;01mawait\u001b[39;00m \u001b[38;5;28mself\u001b[39m\u001b[38;5;241m.\u001b[39mpost_process_chunk(\n\u001b[1;32m    289\u001b[0m         final_chunk_graph,\n\u001b[1;32m    290\u001b[0m         chunk,\n\u001b[1;32m    291\u001b[0m         lexical_graph_builder,\n\u001b[1;32m    292\u001b[0m     )\n",
      "File \u001b[0;32m/opt/homebrew/Caskroom/miniconda/base/lib/python3.10/site-packages/neo4j_graphrag/experimental/components/entity_relation_extractor.py:237\u001b[0m, in \u001b[0;36mLLMEntityRelationExtractor.extract_for_chunk\u001b[0;34m(self, schema, examples, chunk)\u001b[0m\n\u001b[1;32m    235\u001b[0m \u001b[38;5;28;01mexcept\u001b[39;00m ValidationError \u001b[38;5;28;01mas\u001b[39;00m e:\n\u001b[1;32m    236\u001b[0m     \u001b[38;5;28;01mif\u001b[39;00m \u001b[38;5;28mself\u001b[39m\u001b[38;5;241m.\u001b[39mon_error \u001b[38;5;241m==\u001b[39m OnError\u001b[38;5;241m.\u001b[39mRAISE:\n\u001b[0;32m--> 237\u001b[0m         \u001b[38;5;28;01mraise\u001b[39;00m LLMGenerationError(\u001b[38;5;124m\"\u001b[39m\u001b[38;5;124mLLM response has improper format\u001b[39m\u001b[38;5;124m\"\u001b[39m) \u001b[38;5;28;01mfrom\u001b[39;00m\u001b[38;5;250m \u001b[39m\u001b[38;5;21;01me\u001b[39;00m\n\u001b[1;32m    238\u001b[0m     \u001b[38;5;28;01melse\u001b[39;00m:\n\u001b[1;32m    239\u001b[0m         logger\u001b[38;5;241m.\u001b[39merror(\n\u001b[1;32m    240\u001b[0m             \u001b[38;5;124mf\u001b[39m\u001b[38;5;124m\"\u001b[39m\u001b[38;5;124mLLM response has improper format for chunk_index=\u001b[39m\u001b[38;5;132;01m{\u001b[39;00mchunk\u001b[38;5;241m.\u001b[39mindex\u001b[38;5;132;01m}\u001b[39;00m\u001b[38;5;124m\"\u001b[39m\n\u001b[1;32m    241\u001b[0m         )\n",
      "\u001b[0;31mLLMGenerationError\u001b[0m: LLM response has improper format"
     ]
    },
    {
     "name": "stderr",
     "output_type": "stream",
     "text": [
      "INFO:httpx:HTTP Request: POST http://127.0.0.1:11434/api/chat \"HTTP/1.1 200 OK\"\n"
     ]
    }
   ],
   "source": [
    "res = await main()"
   ]
  },
  {
   "cell_type": "code",
   "execution_count": 22,
   "id": "3f3c7062-450f-4725-9a74-e7317efa3dd5",
   "metadata": {},
   "outputs": [
    {
     "data": {
      "text/plain": [
       "<coroutine object main at 0x11cb3e730>"
      ]
     },
     "execution_count": 22,
     "metadata": {},
     "output_type": "execute_result"
    }
   ],
   "source": [
    "res "
   ]
  },
  {
   "cell_type": "code",
   "execution_count": null,
   "id": "04dded52-1942-458a-8740-148b82c6f5e7",
   "metadata": {},
   "outputs": [],
   "source": []
  }
 ],
 "metadata": {
  "kernelspec": {
   "display_name": "Python 3 (ipykernel)",
   "language": "python",
   "name": "python3"
  },
  "language_info": {
   "codemirror_mode": {
    "name": "ipython",
    "version": 3
   },
   "file_extension": ".py",
   "mimetype": "text/x-python",
   "name": "python",
   "nbconvert_exporter": "python",
   "pygments_lexer": "ipython3",
   "version": "3.10.16"
  }
 },
 "nbformat": 4,
 "nbformat_minor": 5
}
